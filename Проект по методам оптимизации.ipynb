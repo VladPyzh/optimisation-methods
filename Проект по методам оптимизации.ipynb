{
 "cells": [
  {
   "cell_type": "markdown",
   "id": "5c8470b5",
   "metadata": {},
   "source": [
    "## Восстановление матриц"
   ]
  },
  {
   "cell_type": "markdown",
   "id": "f7eaa1c8",
   "metadata": {},
   "source": [
    "Данная работа выполнена в рамках курса по методам оптимизации в Московском Физико-Техническом Институте. Работа состоит из двух частей: теоретического отсчета и практической части, в этом блокноте будет выполнена практическая часть. "
   ]
  },
  {
   "cell_type": "code",
   "execution_count": 1,
   "id": "76b215d0",
   "metadata": {},
   "outputs": [],
   "source": [
    "import numpy as np\n",
    "import scipy.stats as sps\n",
    "from sklearn.utils.extmath import randomized_svd, svd_flip\n",
    "from scipy.sparse.linalg import svds"
   ]
  },
  {
   "cell_type": "markdown",
   "id": "da37e395",
   "metadata": {},
   "source": [
    "Сначала имплементируем алгоритм Soft-Impute, описание которого можно встретить в книге [Statistical Learning with Sparsity](https://hastie.su.domains/StatLearnSparsity_files/SLS_corrected_1.4.16.pdf) Напомню, что решение задачи восстановления матрицы мы свели к \n",
    "$$\\min_{M} \\left\\{ \\frac{1}{2} \\sum_\\limits{(i, j) \\in \\Omega}\n",
    "{(z_{ij} - m_{ij})^2 + \\lambda ||M||_*} \\right\\}$$\n",
    "Эта задача называется спектральной регуляризаций."
   ]
  },
  {
   "cell_type": "code",
   "execution_count": 2,
   "id": "76c91ced",
   "metadata": {},
   "outputs": [],
   "source": [
    "def projection(omega, X):\n",
    "    return (omega * X)\n",
    "\n",
    "def anti_projection(omega, X):\n",
    "    return  ((1 - omega) * X)"
   ]
  },
  {
   "cell_type": "code",
   "execution_count": 3,
   "id": "760a55f6",
   "metadata": {},
   "outputs": [],
   "source": [
    "def s_lambda_operator(X, lambda_):\n",
    "    U, D, VH = np.linalg.svd(X, full_matrices=False)\n",
    "    D -= lambda_\n",
    "    D[D < 0] = 0 \n",
    "    return np.dot(U * D, VH)"
   ]
  },
  {
   "cell_type": "code",
   "execution_count": 4,
   "id": "378b09a2",
   "metadata": {},
   "outputs": [],
   "source": [
    "def naive_algo(Z, omega, lambda_=7.5, eps=1/3, theta=0.4, max_iter=1000):\n",
    "    iter_ = max_iter\n",
    "    answers = []\n",
    "    Z_old = np.zeros_like(Z)\n",
    "    while iter_ and ((len(answers) < 2) or \\\n",
    "                     (np.linalg.norm(answers[-1] - answers[-2]) /\\\n",
    "                                 np.linalg.norm(answers[-1]) > eps)):\n",
    "        iter_ -= 1\n",
    "        Z_old = s_lambda_operator(projection(omega, Z) \\\n",
    "                                  + anti_projection(omega, Z_old), lambda_)\n",
    "        answers.append(Z_old)\n",
    "        lambda_ /= theta\n",
    "    return answers[-1]"
   ]
  },
  {
   "cell_type": "markdown",
   "id": "fa389f49",
   "metadata": {},
   "source": [
    "Данный алгоритм теоретически сходится, однако стоит заметить, что при подсчете матриц с большой нормой мы будем проводить вычисления с маленькой точностью или попросту переполнимся, поэтому всё сломается."
   ]
  },
  {
   "cell_type": "markdown",
   "id": "1ece2f28",
   "metadata": {},
   "source": [
    "Проверим корректность данного алгоритма на нескольких примерах"
   ]
  },
  {
   "cell_type": "code",
   "execution_count": 5,
   "id": "ee08e4d0",
   "metadata": {},
   "outputs": [
    {
     "name": "stdout",
     "output_type": "stream",
     "text": [
      "[[ 0  1  2  3  4  5  6  7  8  9]\n",
      " [10 11 12 13 14 15 16 17 18 19]\n",
      " [20 21 22 23 24 25 26 27 28 29]\n",
      " [30 31 32 33 34 35 36 37 38 39]\n",
      " [40 41 42 43 44 45 46 47 48 49]\n",
      " [50 51 52 53 54 55 56 57 58 59]\n",
      " [60 61 62 63 64 65 66 67 68 69]\n",
      " [70 71 72 73 74 75 76 77 78 79]\n",
      " [80 81 82 83 84 85 86 87 88 89]\n",
      " [90 91 92 93 94 95 96 97 98 99]]\n",
      "[[ 0.  1.  2.  3.  4.  5.  6.  7.  8.  9.]\n",
      " [10. 11. 12. 13. 14. 15. 16. 17. 18. 19.]\n",
      " [20. 21. 22.  0. 24. 25. 26. 27. 28. 29.]\n",
      " [30. 31. 32.  0. 34.  0. 36. 37. 38. 39.]\n",
      " [40. 41. 42.  0. 44.  0. 46. 47. 48. 49.]\n",
      " [50. 51. 52. 53. 54. 55. 56. 57. 58. 59.]\n",
      " [60. 61. 62. 63. 64. 65. 66. 67. 68. 69.]\n",
      " [70. 71. 72. 73. 74. 75. 76. 77. 78. 79.]\n",
      " [80. 81. 82. 83. 84. 85. 86. 87. 88. 89.]\n",
      " [90. 91. 92. 93. 94. 95. 96. 97. 98. 99.]]\n"
     ]
    }
   ],
   "source": [
    "Z = np.arange(100).reshape(10,10)\n",
    "omega = np.ones(100).reshape(10,10)\n",
    "omega[2, 3] = 0 #маска, явно указывает, какие числа мы как будто бы стерли\n",
    "omega[3, 3] = 0\n",
    "omega[4, 3] = 0\n",
    "omega[3, 5] = 0\n",
    "omega[4, 5] = 0\n",
    "print(Z)\n",
    "print(projection(omega, Z))"
   ]
  },
  {
   "cell_type": "code",
   "execution_count": 6,
   "id": "51640b81",
   "metadata": {},
   "outputs": [
    {
     "name": "stdout",
     "output_type": "stream",
     "text": [
      "[[ 0.    1.    2.    3.    4.    5.    6.    7.    8.    9.  ]\n",
      " [10.   11.   12.   13.   14.   15.   16.   17.   18.   19.  ]\n",
      " [20.   21.   22.   17.21 24.   25.   26.   27.   28.   29.  ]\n",
      " [30.   31.   32.    8.87 34.   11.74 36.   37.   38.   39.  ]\n",
      " [40.   41.   42.   11.65 44.   15.32 46.   47.   48.   49.  ]\n",
      " [50.   51.   52.   53.   54.   55.   56.   57.   58.   59.  ]\n",
      " [60.   61.   62.   63.   64.   65.   66.   67.   68.   69.  ]\n",
      " [70.   71.   72.   73.   74.   75.   76.   77.   78.   79.  ]\n",
      " [80.   81.   82.   83.   84.   85.   86.   87.   88.   89.  ]\n",
      " [90.   91.   92.   93.   94.   95.   96.   97.   98.   99.  ]]\n"
     ]
    }
   ],
   "source": [
    "result = naive_algo(Z, omega, lambda_=15, eps=0.2, theta=0.9)\n",
    "print(np.round(anti_projection(omega, result) + projection(omega, Z),\n",
    "               2))"
   ]
  },
  {
   "cell_type": "markdown",
   "id": "8b8f78e5",
   "metadata": {},
   "source": [
    "Видно, что такая реализация алгоритма весьма сомнительна, по крайней мере на данном примере. Рассмотрим еще варианты."
   ]
  },
  {
   "cell_type": "code",
   "execution_count": 7,
   "id": "8e1ce6cd",
   "metadata": {},
   "outputs": [
    {
     "name": "stdout",
     "output_type": "stream",
     "text": [
      "[[ 0  1  2  3  4  5  6  7  8  9]\n",
      " [10 11 12 13 14 15 16 17 18 19]\n",
      " [ 0  1  2  3  4  5  6  7  8  9]\n",
      " [10 11 12 13 14 15 16 17 18 19]\n",
      " [ 0  1  2  3  4  5  6  7  8  9]\n",
      " [10 11 12 13 14 15 16 17 18 19]\n",
      " [ 0  1  2  3  4  5  6  7  8  9]\n",
      " [10 11 12 13 14 15 16 17 18 19]\n",
      " [ 0  1  2  3  4  5  6  7  8  9]\n",
      " [10 11 12 13 14 15 16 17 18 19]]\n",
      "[[ 0.  1.  2.  3.  4.  5.  6.  7.  8.  9.]\n",
      " [10. 11. 12. 13. 14. 15. 16. 17. 18. 19.]\n",
      " [ 0.  1.  2.  0.  4.  5.  6.  7.  8.  9.]\n",
      " [10. 11. 12.  0. 14.  0. 16. 17. 18. 19.]\n",
      " [ 0.  1.  2.  0.  4.  0.  6.  7.  8.  9.]\n",
      " [10. 11. 12. 13. 14. 15. 16. 17. 18. 19.]\n",
      " [ 0.  1.  2.  3.  4.  5.  6.  7.  8.  9.]\n",
      " [10. 11. 12. 13. 14. 15. 16. 17. 18. 19.]\n",
      " [ 0.  1.  2.  3.  4.  5.  6.  7.  8.  9.]\n",
      " [10. 11. 12. 13. 14. 15. 16. 17. 18. 19.]]\n"
     ]
    }
   ],
   "source": [
    "Z = np.arange(100).reshape(10,10)\n",
    "Z = Z % 20\n",
    "omega = np.ones(100).reshape(10,10)\n",
    "omega[2, 3] = 0 #маска, явно указывает, какие числа мы как будто бы стерли\n",
    "omega[3, 3] = 0\n",
    "omega[4, 3] = 0\n",
    "omega[3, 5] = 0\n",
    "omega[4, 5] = 0\n",
    "print(Z)\n",
    "print(projection(omega, Z))"
   ]
  },
  {
   "cell_type": "code",
   "execution_count": 8,
   "id": "60c675e3",
   "metadata": {},
   "outputs": [
    {
     "name": "stdout",
     "output_type": "stream",
     "text": [
      "[[ 0.    1.    2.    3.    4.    5.    6.    7.    8.    9.  ]\n",
      " [10.   11.   12.   13.   14.   15.   16.   17.   18.   19.  ]\n",
      " [ 0.    1.    2.    3.17  4.    5.    6.    7.    8.    9.  ]\n",
      " [10.   11.   12.    8.22 14.    9.91 16.   17.   18.   19.  ]\n",
      " [ 0.    1.    2.    2.89  4.    3.48  6.    7.    8.    9.  ]\n",
      " [10.   11.   12.   13.   14.   15.   16.   17.   18.   19.  ]\n",
      " [ 0.    1.    2.    3.    4.    5.    6.    7.    8.    9.  ]\n",
      " [10.   11.   12.   13.   14.   15.   16.   17.   18.   19.  ]\n",
      " [ 0.    1.    2.    3.    4.    5.    6.    7.    8.    9.  ]\n",
      " [10.   11.   12.   13.   14.   15.   16.   17.   18.   19.  ]]\n"
     ]
    }
   ],
   "source": [
    "result = naive_algo(Z, omega, lambda_=6, eps=0.5, theta=0.4)\n",
    "print(np.round(anti_projection(omega, result) + projection(omega, Z),\n",
    "               2))"
   ]
  },
  {
   "cell_type": "markdown",
   "id": "2da9b68a",
   "metadata": {},
   "source": [
    "При меньших числах видно, что результат оказался немного более убедительным. Посмотрим на относительное отклонение."
   ]
  },
  {
   "cell_type": "code",
   "execution_count": 9,
   "id": "d36d385e",
   "metadata": {},
   "outputs": [
    {
     "name": "stdout",
     "output_type": "stream",
     "text": [
      "[[1.         1.         1.         1.         1.         1.\n",
      "  1.         1.         1.         1.        ]\n",
      " [1.         1.         1.         1.         1.         1.\n",
      "  1.         1.         1.         1.        ]\n",
      " [1.         1.         1.         1.05666665 1.         1.\n",
      "  1.         1.         1.         1.        ]\n",
      " [1.         1.         1.         0.63230772 1.         0.66066669\n",
      "  1.         1.         1.         1.        ]\n",
      " [1.         1.         1.         0.96333335 1.         0.69600006\n",
      "  1.         1.         1.         1.        ]\n",
      " [1.         1.         1.         1.         1.         1.\n",
      "  1.         1.         1.         1.        ]\n",
      " [1.         1.         1.         1.         1.         1.\n",
      "  1.         1.         1.         1.        ]\n",
      " [1.         1.         1.         1.         1.         1.\n",
      "  1.         1.         1.         1.        ]\n",
      " [1.         1.         1.         1.         1.         1.\n",
      "  1.         1.         1.         1.        ]\n",
      " [1.         1.         1.         1.         1.         1.\n",
      "  1.         1.         1.         1.        ]]\n"
     ]
    }
   ],
   "source": [
    "fix_zero = 1e-06\n",
    "print((np.round(anti_projection(omega, result) + projection(omega, Z),\n",
    "               2) + fix_zero)/ (Z + fix_zero))"
   ]
  },
  {
   "cell_type": "markdown",
   "id": "385b4e84",
   "metadata": {},
   "source": [
    "Хорошо видно, что малые значения мы приближаем очень хорошо, тогда как более крупные гораздо хуже."
   ]
  },
  {
   "cell_type": "markdown",
   "id": "a59ec768",
   "metadata": {},
   "source": [
    "### Более эфективный алгоритм"
   ]
  },
  {
   "cell_type": "markdown",
   "id": "c387989e",
   "metadata": {},
   "source": [
    "Перейдем теперь к реализации Soft-thresholding algorithm, описанной в статье [Cai, Candes, Shen 2008](https://arxiv.org/pdf/0810.3286.pdf)"
   ]
  },
  {
   "cell_type": "code",
   "execution_count": 10,
   "id": "ffa1dc94",
   "metadata": {},
   "outputs": [],
   "source": [
    "def svd_first_k(M, k):\n",
    "    U, S, V = svds(M, k=min(k, min(M.shape)-1))\n",
    "    U, V = svd_flip(U[:, ::-1], V[::-1])\n",
    "    return U, S[::-1], V\n",
    "\n",
    "def svt_algo(Z, omega, tau=None, delta=None, eps=1e-03, max_iter=1000):\n",
    "    if not tau:\n",
    "        tau = 5 * np.sum(Z.shape) / 2\n",
    "    if not delta:\n",
    "        delta = 1.2 * np.prod(Z.shape) / np.sum(omega)\n",
    "\n",
    "    Z_old = np.zeros_like(Z)\n",
    "    Y = delta * omega * (Z - Z_old)\n",
    "    \n",
    "    r_prev = 0\n",
    "    \n",
    "    for k in range(max_iter):\n",
    "        sk = r_prev + 1\n",
    "        (U, S, V) = svd_first_k(Y, sk,)\n",
    "        while np.min(S) >= tau:\n",
    "            sk = sk + 1\n",
    "            (U, S, V) = svd_first_k(Y, sk)\n",
    "        shrink_S = np.maximum(S - tau, 0)\n",
    "        r_prev = np.count_nonzero(shrink_S)\n",
    "        Z_old = np.linalg.multi_dot([U, np.diag(shrink_S), V])\n",
    "        Y += delta * omega * (Z - Z_old)\n",
    "        \n",
    "        if np.linalg.norm(omega * (Z - Z_old )) \\\n",
    "                    / np.linalg.norm(omega * Z) < eps:\n",
    "            break\n",
    "\n",
    "    return Z_old"
   ]
  },
  {
   "cell_type": "code",
   "execution_count": 11,
   "id": "9b04950a",
   "metadata": {},
   "outputs": [],
   "source": [
    "Z = np.arange(100).reshape(10,10)\n",
    "omega = np.ones(100).reshape(10,10)\n",
    "omega[2, 3] = 0 #маска, явно указывает, какие числа мы как будто бы стерли\n",
    "omega[3, 3] = 0\n",
    "omega[4, 6] = 0\n",
    "\n",
    "Z = omega * Z"
   ]
  },
  {
   "cell_type": "code",
   "execution_count": 12,
   "id": "27500518",
   "metadata": {},
   "outputs": [
    {
     "data": {
      "text/plain": [
       "array([[-0.  ,  1.  ,  2.01,  2.73,  4.03,  5.04,  5.96,  7.06,  8.07,\n",
       "         9.08],\n",
       "       [ 9.99, 11.  , 12.01, 12.77, 14.03, 15.04, 15.97, 17.05, 18.06,\n",
       "        19.07],\n",
       "       [20.06, 21.05, 22.04, 22.82, 24.01, 25.  , 25.94, 26.97, 27.96,\n",
       "        28.95],\n",
       "       [30.13, 31.11, 32.08, 32.9 , 34.02, 35.  , 35.93, 36.94, 37.92,\n",
       "        38.89],\n",
       "       [40.05, 41.04, 42.03, 43.  , 44.01, 45.  , 40.4 , 46.98, 47.97,\n",
       "        48.96],\n",
       "       [49.98, 50.99, 51.99, 52.92, 54.01, 55.01, 56.  , 57.02, 58.03,\n",
       "        59.03],\n",
       "       [59.98, 60.99, 61.99, 62.96, 64.  , 65.01, 66.01, 67.02, 68.02,\n",
       "        69.03],\n",
       "       [69.98, 70.98, 71.99, 73.  , 74.  , 75.  , 76.01, 77.01, 78.01,\n",
       "        79.02],\n",
       "       [79.98, 80.98, 81.98, 83.04, 83.99, 84.99, 86.02, 87.  , 88.01,\n",
       "        89.01],\n",
       "       [89.97, 90.98, 91.98, 93.07, 93.99, 94.99, 96.03, 96.99, 98.  ,\n",
       "        99.  ]])"
      ]
     },
     "execution_count": 12,
     "metadata": {},
     "output_type": "execute_result"
    }
   ],
   "source": [
    "np.round(svt_algo(Z, omega), 2)"
   ]
  },
  {
   "cell_type": "code",
   "execution_count": 13,
   "id": "0b1b6eed",
   "metadata": {},
   "outputs": [
    {
     "data": {
      "text/plain": [
       "array([[-0. ,  0. ,  0. , -0.3,  0. ,  0. ,  0. ,  0.1,  0.1,  0.1],\n",
       "       [ 0. ,  0. ,  0. , -0.2,  0. ,  0. ,  0. ,  0.1,  0.1,  0.1],\n",
       "       [ 0.1,  0. ,  0. , -0.2,  0. ,  0. , -0.1,  0. ,  0. , -0.1],\n",
       "       [ 0.1,  0.1,  0.1, -0.1,  0. ,  0. , -0.1, -0.1, -0.1, -0.1],\n",
       "       [ 0.1,  0. ,  0. ,  0. ,  0. ,  0. , -5.6,  0. ,  0. ,  0. ],\n",
       "       [ 0. ,  0. ,  0. , -0.1,  0. ,  0. ,  0. ,  0. ,  0. ,  0. ],\n",
       "       [ 0. ,  0. ,  0. ,  0. ,  0. ,  0. ,  0. ,  0. ,  0. ,  0. ],\n",
       "       [ 0. ,  0. ,  0. ,  0. ,  0. ,  0. ,  0. ,  0. ,  0. ,  0. ],\n",
       "       [ 0. ,  0. ,  0. ,  0. ,  0. ,  0. ,  0. ,  0. ,  0. ,  0. ],\n",
       "       [ 0. ,  0. ,  0. ,  0.1,  0. ,  0. ,  0. ,  0. ,  0. ,  0. ]])"
      ]
     },
     "execution_count": 13,
     "metadata": {},
     "output_type": "execute_result"
    }
   ],
   "source": [
    "np.round(svt_algo(Z, omega), 1) - np.arange(100).reshape(10,10)"
   ]
  },
  {
   "cell_type": "markdown",
   "id": "dd47b3ee",
   "metadata": {},
   "source": [
    "Видно, что в этот раз результат получился гораздо лучше, мы c гораздо большей точностью угадали затертые числа."
   ]
  },
  {
   "cell_type": "code",
   "execution_count": 14,
   "id": "0a10cd73",
   "metadata": {},
   "outputs": [
    {
     "name": "stdout",
     "output_type": "stream",
     "text": [
      "[[ 0  1  2  3  4  5  6  7  8  9]\n",
      " [10 11 12 13 14 15 16 17 18 19]\n",
      " [ 0  1  2  3  4  5  6  7  8  9]\n",
      " [10 11 12 13 14 15 16 17 18 19]\n",
      " [ 0  1  2  3  4  5  6  7  8  9]\n",
      " [10 11 12 13 14 15 16 17 18 19]\n",
      " [ 0  1  2  3  4  5  6  7  8  9]\n",
      " [10 11 12 13 14 15 16 17 18 19]\n",
      " [ 0  1  2  3  4  5  6  7  8  9]\n",
      " [10 11 12 13 14 15 16 17 18 19]]\n",
      "[[ 0.  1.  2.  3.  4.  5.  6.  7.  8.  9.]\n",
      " [10. 11. 12. 13. 14. 15. 16. 17. 18. 19.]\n",
      " [ 0.  1.  2.  0.  4.  5.  6.  7.  8.  9.]\n",
      " [10. 11. 12.  0. 14.  0. 16. 17. 18. 19.]\n",
      " [ 0.  1.  2.  0.  4.  0.  6.  7.  8.  9.]\n",
      " [10. 11. 12. 13. 14. 15. 16. 17. 18. 19.]\n",
      " [ 0.  1.  2.  3.  4.  5.  6.  7.  8.  9.]\n",
      " [10. 11. 12. 13. 14. 15. 16. 17. 18. 19.]\n",
      " [ 0.  1.  2.  3.  4.  5.  6.  7.  8.  9.]\n",
      " [10. 11. 12. 13. 14. 15. 16. 17. 18. 19.]]\n"
     ]
    }
   ],
   "source": [
    "Z = np.arange(100).reshape(10,10)\n",
    "Z = Z % 20\n",
    "omega = np.ones(100).reshape(10,10)\n",
    "omega[2, 3] = 0 #маска, явно указывает, какие числа мы как будто бы стерли\n",
    "omega[3, 3] = 0\n",
    "omega[4, 3] = 0\n",
    "omega[3, 5] = 0\n",
    "omega[4, 5] = 0\n",
    "print(Z)\n",
    "print(projection(omega, Z))"
   ]
  },
  {
   "cell_type": "code",
   "execution_count": 15,
   "id": "df8e051f",
   "metadata": {},
   "outputs": [
    {
     "data": {
      "text/plain": [
       "array([[-0.,  0.,  0.,  0.,  0.,  0.,  0.,  0.,  0.,  0.],\n",
       "       [ 0.,  0.,  0.,  0.,  0.,  0.,  0.,  0.,  0.,  0.],\n",
       "       [ 0.,  0.,  0.,  0.,  0.,  0.,  0.,  0.,  0.,  0.],\n",
       "       [ 0.,  0.,  0.,  0.,  0.,  0.,  0.,  0.,  0.,  0.],\n",
       "       [ 0.,  0.,  0.,  0.,  0.,  0.,  0.,  0.,  0.,  0.],\n",
       "       [ 0.,  0.,  0.,  0.,  0.,  0.,  0.,  0.,  0.,  0.],\n",
       "       [-0.,  0.,  0.,  0.,  0.,  0.,  0.,  0.,  0.,  0.],\n",
       "       [ 0.,  0.,  0.,  0.,  0.,  0.,  0.,  0.,  0.,  0.],\n",
       "       [-0.,  0.,  0.,  0.,  0.,  0.,  0.,  0.,  0.,  0.],\n",
       "       [ 0.,  0.,  0.,  0.,  0.,  0.,  0.,  0.,  0.,  0.]])"
      ]
     },
     "execution_count": 15,
     "metadata": {},
     "output_type": "execute_result"
    }
   ],
   "source": [
    "np.round(svt_algo(Z, omega), 1) - Z"
   ]
  },
  {
   "cell_type": "markdown",
   "id": "7ed00a7c",
   "metadata": {},
   "source": [
    "Здесь мы смогли целиком восстановить все потерянные значения "
   ]
  },
  {
   "cell_type": "markdown",
   "id": "d1f681c0",
   "metadata": {},
   "source": [
    "Рассмотрим какую-то дурацкую матрицу ранга два и посмотрим как на ней мы восстановимся."
   ]
  },
  {
   "cell_type": "code",
   "execution_count": 40,
   "id": "b5d031b8",
   "metadata": {},
   "outputs": [],
   "source": [
    "Z = np.array([[1, -2, 1, 3, 4, 2, 1],\n",
    "              [-1, 3, 0, 2, 0, -3, 1],\n",
    "              [1, -1, 2, 8, 8, 1, 3],\n",
    "              [2, -5, 1, 1, 4, 5, 0],\n",
    "              [0, 1, 1, 5, 4, -1, 2],\n",
    "              [4, -7, 5, 17, 20, 7, 6],\n",
    "              [4, -9, 3, 7, 12, 9, 2]])"
   ]
  },
  {
   "cell_type": "code",
   "execution_count": 46,
   "id": "cf678930",
   "metadata": {},
   "outputs": [],
   "source": [
    "omega = np.ones(49).reshape(7, 7)\n",
    "omega[2, 3] = 0 #маска, явно указывает, какие числа мы как будто бы стерли\n",
    "omega[3, 3] = 0\n",
    "omega[4, 3] = 0"
   ]
  },
  {
   "cell_type": "code",
   "execution_count": 48,
   "id": "244d145f",
   "metadata": {},
   "outputs": [
    {
     "data": {
      "text/plain": [
       "array([[ 0.,  0.,  0.,  0.,  0.,  0.,  0.],\n",
       "       [ 0.,  0.,  0.,  0.,  0.,  0.,  0.],\n",
       "       [ 0.,  0.,  0.,  0.,  0.,  0.,  0.],\n",
       "       [ 0.,  0.,  0.,  0.,  0.,  0., -0.],\n",
       "       [-0.,  0.,  0.,  0.,  0.,  0.,  0.],\n",
       "       [ 0.,  0.,  0.,  0.,  0.,  0.,  0.],\n",
       "       [ 0.,  0.,  0.,  0.,  0.,  0.,  0.]])"
      ]
     },
     "execution_count": 48,
     "metadata": {},
     "output_type": "execute_result"
    }
   ],
   "source": [
    "np.round(svt_algo(Z, omega), 1) - Z"
   ]
  },
  {
   "cell_type": "code",
   "execution_count": 49,
   "id": "9d95ed75",
   "metadata": {
    "scrolled": true
   },
   "outputs": [
    {
     "data": {
      "text/plain": [
       "array([[ 0.  ,  0.  ,  0.  ,  0.  ,  0.  ,  0.  ,  0.  ],\n",
       "       [ 0.  ,  0.  ,  0.  ,  0.  ,  0.  ,  0.  ,  0.  ],\n",
       "       [ 0.  ,  0.  ,  0.  , -0.04,  0.  ,  0.  ,  0.  ],\n",
       "       [ 0.  ,  0.  ,  0.  ,  0.  ,  0.  ,  0.  ,  0.  ],\n",
       "       [ 0.  ,  0.  ,  0.  ,  0.  ,  0.  ,  0.  ,  0.  ],\n",
       "       [ 0.  ,  0.  ,  0.  ,  0.  ,  0.  ,  0.  ,  0.  ],\n",
       "       [ 0.  ,  0.  ,  0.  ,  0.  ,  0.  ,  0.  ,  0.  ]])"
      ]
     },
     "execution_count": 49,
     "metadata": {},
     "output_type": "execute_result"
    }
   ],
   "source": [
    "anti_projection(omega, np.round(svt_algo(Z, omega), 2)) +\\\n",
    "projection(omega, Z) - Z"
   ]
  },
  {
   "cell_type": "markdown",
   "id": "07df1763",
   "metadata": {},
   "source": [
    "Здесь мы смогли почти в точности угадать все числа, которых не было в матрице, что достаточно неплохо. "
   ]
  },
  {
   "cell_type": "code",
   "execution_count": 16,
   "id": "715068d6",
   "metadata": {},
   "outputs": [
    {
     "name": "stdout",
     "output_type": "stream",
     "text": [
      "[[1. 1. 1. 1. 1. 1. 1. 1. 1. 1.]\n",
      " [1. 1. 1. 1. 1. 1. 1. 1. 1. 1.]\n",
      " [1. 1. 1. 1. 1. 1. 1. 1. 1. 1.]]\n",
      "[[1. 1. 1. 1. 1. 1. 1. 1. 1. 1.]\n",
      " [0. 0. 0. 0. 0. 0. 0. 0. 0. 0.]\n",
      " [1. 1. 1. 1. 1. 1. 1. 1. 1. 1.]]\n"
     ]
    }
   ],
   "source": [
    "Z = np.ones(30).reshape(3,10)\n",
    "# Z = Z % 20\n",
    "omega = np.ones(30).reshape(3,10)\n",
    "omega[1] = np.zeros(10)\n",
    "print(Z)\n",
    "print(projection(omega, Z))"
   ]
  },
  {
   "cell_type": "code",
   "execution_count": 17,
   "id": "b62c4af7",
   "metadata": {},
   "outputs": [
    {
     "data": {
      "text/plain": [
       "array([[1., 1., 1., 1., 1., 1., 1., 1., 1., 1.],\n",
       "       [0., 0., 0., 0., 0., 0., 0., 0., 0., 0.],\n",
       "       [1., 1., 1., 1., 1., 1., 1., 1., 1., 1.]])"
      ]
     },
     "execution_count": 17,
     "metadata": {},
     "output_type": "execute_result"
    }
   ],
   "source": [
    "np.round(svt_algo(Z, omega), 1) "
   ]
  },
  {
   "cell_type": "markdown",
   "id": "5e47aabb",
   "metadata": {},
   "source": [
    "Понятно, что при добавлении абсолютно пустой строки ничего и не должно было произойти &mdash; пустое дополнение и есть решение нашей задачи."
   ]
  },
  {
   "cell_type": "markdown",
   "id": "6be24ef5",
   "metadata": {},
   "source": [
    "### Вероятностный алгоритм уменьшения суммы квадратов"
   ]
  },
  {
   "cell_type": "markdown",
   "id": "bfe86bfe",
   "metadata": {},
   "source": [
    "Рассмотрим теперь Alternating Least Squares алгоритм, основывающийся на статьях [Yehuda Koren, Robert Bell and Chris Volinsky](https://ieeexplore.ieee.org/stamp/stamp.jsp?tp=&arnumber=5197422) и [Ruslan Salakhutdinov, Andriy Mnih](https://www.cs.toronto.edu/~amnih/papers/bpmf.pdf)"
   ]
  },
  {
   "cell_type": "code",
   "execution_count": 25,
   "id": "759c7cb4",
   "metadata": {
    "scrolled": false
   },
   "outputs": [],
   "source": [
    "def calculate_iter_answer(U, V, beta, gamma):\n",
    "    n = V.shape[0]\n",
    "    m = U.shape[0]\n",
    "    return np.dot(U, V.T) + \\\n",
    "           np.outer(beta, np.ones(n)) + \\\n",
    "           np.outer(np.ones(m), gamma)\n",
    "\n",
    "def calculate_U(Z, CU, U, V, beta, gamma):\n",
    "    n = V.shape[0]\n",
    "    m = U.shape[0]\n",
    "    k = V.shape[1]\n",
    "    Z_tmp = Z - np.outer(np.ones(m), gamma)\n",
    "    V_tmp = np.c_[np.ones(n), V]\n",
    "    for i in range(m):\n",
    "        U_tmp = np.linalg.solve(np.linalg.multi_dot([V_tmp.T,\n",
    "                                                       CU[i],\n",
    "                                                       V_tmp]) +\n",
    "                                  mu * np.eye(k + 1),\n",
    "                                  np.linalg.multi_dot([V_tmp.T,\n",
    "                                                       CU[i],\n",
    "                                                       Z_tmp[i,:]]))\n",
    "        beta[i] = U_tmp[0]\n",
    "        U[i] = U_tmp[1:]\n",
    "    return U\n",
    "    \n",
    "def calculate_V(Z, CV, U, V, beta, gamma):\n",
    "    n = V.shape[0]\n",
    "    m = U.shape[0]\n",
    "    k = V.shape[1]\n",
    "    Z_tmp = Z - np.outer(beta, np.ones(n))\n",
    "    U_tmp = np.c_[np.ones(m), U]\n",
    "    for j in range(n):\n",
    "        V_tmp = np.linalg.solve(np.linalg.multi_dot([U_tmp.T,\n",
    "                                                       CV[j],\n",
    "                                                       U_tmp]) +\n",
    "                                  mu * np.eye(k + 1),\n",
    "                                  np.linalg.multi_dot([U_tmp.T,\n",
    "                                                       CV[j],\n",
    "                                                       Z_tmp[:,j]]))\n",
    "        gamma[j] = V_tmp[0]\n",
    "        V[j] = V_tmp[1:]\n",
    "    return V\n",
    "\n",
    "    \n",
    "def probabistic_algo(Z, mask, k, mu, eps=1e-3, max_iterations=100):\n",
    "    m, n = Z.shape\n",
    "    rdm_f = sps.norm.rvs \n",
    "\n",
    "    U = rdm_f(size = (m, k))\n",
    "    V = rdm_f(size = (n, k))\n",
    "    beta = rdm_f(size = m)\n",
    "    gamma = rdm_f(size = n)\n",
    "\n",
    "    CU = [np.diag(row) for row in mask]\n",
    "    CV = [np.diag(col) for col in mask.T]\n",
    "\n",
    "    Z_old = calculate_iter_answer(U, V, beta, gamma)\n",
    "    \n",
    "    for _ in range(max_iterations):\n",
    "        U = calculate_U(Z, CU, U, V, beta, gamma)\n",
    "        V = calculate_V(Z, CV, U, V, beta, gamma)\n",
    "        X = calculate_iter_answer(U, V, beta, gamma)\n",
    "\n",
    "        if np.linalg.norm(X - Z_old) / m / n < eps:\n",
    "            break\n",
    "        Z_old = X\n",
    "\n",
    "    return Z_old\n"
   ]
  },
  {
   "cell_type": "code",
   "execution_count": 26,
   "id": "e7a18256",
   "metadata": {},
   "outputs": [
    {
     "data": {
      "text/plain": [
       "array([[ 0.  ,  1.  ,  2.  ,  3.  ,  4.  ,  5.  ,  6.  ,  7.  ,  8.  ,\n",
       "         9.  ],\n",
       "       [10.  , 11.  , 12.  , 13.  , 14.  , 15.  , 16.  , 17.  , 18.  ,\n",
       "        19.  ],\n",
       "       [20.  , 21.  , 22.  , 23.02, 24.  , 25.  , 26.  , 27.  , 28.  ,\n",
       "        29.  ],\n",
       "       [30.  , 31.  , 32.  , 32.96, 34.  , 34.92, 36.  , 37.  , 38.  ,\n",
       "        39.  ],\n",
       "       [40.  , 41.  , 42.  , 42.94, 44.  , 44.9 , 46.  , 47.  , 48.  ,\n",
       "        49.  ],\n",
       "       [50.  , 51.  , 52.  , 53.  , 54.  , 55.  , 56.  , 57.  , 58.  ,\n",
       "        59.  ],\n",
       "       [60.  , 61.  , 62.  , 63.  , 64.  , 65.  , 66.  , 67.  , 68.  ,\n",
       "        69.  ],\n",
       "       [70.  , 71.  , 72.  , 73.  , 74.  , 75.  , 76.  , 77.  , 78.  ,\n",
       "        79.  ],\n",
       "       [80.  , 81.  , 82.  , 83.  , 84.  , 85.  , 86.  , 87.  , 88.  ,\n",
       "        89.  ],\n",
       "       [90.  , 91.  , 92.  , 93.  , 94.  , 95.  , 96.  , 97.  , 98.  ,\n",
       "        99.  ]])"
      ]
     },
     "execution_count": 26,
     "metadata": {},
     "output_type": "execute_result"
    }
   ],
   "source": [
    "Z = np.arange(100).reshape(10,10)\n",
    "omega = np.ones(100).reshape(10,10)\n",
    "omega[2, 3] = 0\n",
    "omega[3, 3] = 0\n",
    "omega[4, 3] = 0\n",
    "omega[3, 5] = 0\n",
    "omega[4, 5] = 0\n",
    "\n",
    "k=1\n",
    "mu=0.1\n",
    "anti_projection(omega, np.round(probabistic_algo(Z, omega, k, mu), 2)) +\\\n",
    "projection(omega, Z)"
   ]
  },
  {
   "cell_type": "markdown",
   "id": "97b68ff4",
   "metadata": {},
   "source": [
    "Здесь мы смогли предсказать все числа с еще большей точностью, чем в предыдущих двух методах."
   ]
  },
  {
   "cell_type": "code",
   "execution_count": 30,
   "id": "f0803739",
   "metadata": {},
   "outputs": [
    {
     "name": "stdout",
     "output_type": "stream",
     "text": [
      "[[ 0  1  2  3  4  5  6  7  8  9]\n",
      " [10 11 12 13 14 15 16 17 18 19]\n",
      " [ 0  1  2  3  4  5  6  7  8  9]\n",
      " [10 11 12 13 14 15 16 17 18 19]\n",
      " [ 0  1  2  3  4  5  6  7  8  9]\n",
      " [10 11 12 13 14 15 16 17 18 19]\n",
      " [ 0  1  2  3  4  5  6  7  8  9]\n",
      " [10 11 12 13 14 15 16 17 18 19]\n",
      " [ 0  1  2  3  4  5  6  7  8  9]\n",
      " [10 11 12 13 14 15 16 17 18 19]]\n",
      "[[ 0.  1.  2.  3.  4.  5.  6.  7.  8.  9.]\n",
      " [10. 11. 12. 13. 14. 15. 16. 17. 18. 19.]\n",
      " [ 0.  1.  2.  0.  4.  5.  6.  7.  8.  9.]\n",
      " [10. 11. 12.  0. 14.  0. 16. 17. 18. 19.]\n",
      " [ 0.  1.  2.  0.  4.  0.  6.  7.  8.  9.]\n",
      " [10. 11. 12. 13. 14. 15. 16. 17. 18. 19.]\n",
      " [ 0.  1.  2.  3.  4.  5.  6.  7.  8.  9.]\n",
      " [10. 11. 12. 13. 14. 15. 16. 17. 18. 19.]\n",
      " [ 0.  1.  2.  3.  4.  5.  6.  7.  8.  9.]\n",
      " [10. 11. 12. 13. 14. 15. 16. 17. 18. 19.]]\n"
     ]
    }
   ],
   "source": [
    "Z = np.arange(100).reshape(10,10)\n",
    "Z = Z % 20\n",
    "omega = np.ones(100).reshape(10,10)\n",
    "omega[2, 3] = 0 #маска, явно указывает, какие числа мы как будто бы стерли\n",
    "omega[3, 3] = 0\n",
    "omega[4, 3] = 0\n",
    "omega[3, 5] = 0\n",
    "omega[4, 5] = 0\n",
    "print(Z)\n",
    "print(projection(omega, Z))"
   ]
  },
  {
   "cell_type": "code",
   "execution_count": 32,
   "id": "2a75a5c8",
   "metadata": {},
   "outputs": [
    {
     "data": {
      "text/plain": [
       "array([[ 0.1,  0.1,  0.1,  0.1,  0. ,  0. ,  0. , -0.1, -0.1, -0.1],\n",
       "       [ 0. ,  0. ,  0. ,  0. ,  0. ,  0. ,  0. ,  0. ,  0. ,  0. ],\n",
       "       [ 0.1,  0.1,  0.1,  0.1,  0. ,  0. ,  0. , -0.1, -0.1, -0.1],\n",
       "       [-0.1, -0.1,  0. ,  0. ,  0. ,  0. ,  0. ,  0. ,  0. ,  0. ],\n",
       "       [ 0.1,  0.1,  0.1,  0.1,  0. ,  0. ,  0. , -0.1, -0.1, -0.1],\n",
       "       [ 0. ,  0. ,  0. ,  0. ,  0. ,  0. ,  0. ,  0. ,  0. ,  0. ],\n",
       "       [ 0.1,  0.1,  0.1,  0.1,  0. ,  0. ,  0. , -0.1, -0.1, -0.1],\n",
       "       [ 0. ,  0. ,  0. ,  0. ,  0. ,  0. ,  0. ,  0. ,  0. ,  0. ],\n",
       "       [ 0.1,  0.1,  0.1,  0.1,  0. ,  0. ,  0. , -0.1, -0.1, -0.1],\n",
       "       [ 0. ,  0. ,  0. ,  0. ,  0. ,  0. ,  0. ,  0. ,  0. ,  0. ]])"
      ]
     },
     "execution_count": 32,
     "metadata": {},
     "output_type": "execute_result"
    }
   ],
   "source": [
    "np.round(probabistic_algo(Z, omega, k, mu), 1) - Z"
   ]
  },
  {
   "cell_type": "markdown",
   "id": "5df4b8ac",
   "metadata": {},
   "source": [
    "Рассмотрим теперь произвольную матрицу ранга 2, посмотрим как алгоритм восстановит её"
   ]
  },
  {
   "cell_type": "code",
   "execution_count": 33,
   "id": "1428f728",
   "metadata": {},
   "outputs": [],
   "source": [
    "Z = np.array([[1, -2, 1, 3, 4, 2, 1],\n",
    "              [-1, 3, 0, 2, 0, -3, 1],\n",
    "              [1, -1, 2, 8, 8, 1, 3],\n",
    "              [2, -5, 1, 1, 4, 5, 0],\n",
    "              [0, 1, 1, 5, 4, -1, 2],\n",
    "              [4, -7, 5, 17, 20, 7, 6],\n",
    "              [4, -9, 3, 7, 12, 9, 2]])"
   ]
  },
  {
   "cell_type": "code",
   "execution_count": 36,
   "id": "fb1be2e2",
   "metadata": {},
   "outputs": [],
   "source": [
    "omega = np.ones(49).reshape(7, 7)\n",
    "omega[2, 3] = 0 #маска, явно указывает, какие числа мы как будто бы стерли\n",
    "omega[3, 3] = 0\n",
    "omega[4, 3] = 0"
   ]
  },
  {
   "cell_type": "code",
   "execution_count": 37,
   "id": "177033b9",
   "metadata": {},
   "outputs": [
    {
     "data": {
      "text/plain": [
       "array([[-0.6,  0.3, -0.2,  0.9,  0.5, -1.2,  0.2],\n",
       "       [ 0.6, -0.4,  0.2, -1.3, -0.3,  1.1, -0.1],\n",
       "       [ 0.7, -0.4,  0.1, -2.3, -1.4,  1.5, -0.6],\n",
       "       [-1.4,  0.8, -0.2,  4.3,  2.7, -3. ,  1.1],\n",
       "       [ 0.5, -0.3,  0. , -2. , -1.1,  1.2, -0.5],\n",
       "       [ 1.7, -1. ,  0.5, -2.6, -1.5,  3.4, -0.6],\n",
       "       [-1.5,  0.9, -0.5,  2.8,  1. , -2.9,  0.4]])"
      ]
     },
     "execution_count": 37,
     "metadata": {},
     "output_type": "execute_result"
    }
   ],
   "source": [
    "np.round(probabistic_algo(Z, omega, k, mu), 1) - Z"
   ]
  },
  {
   "cell_type": "code",
   "execution_count": 39,
   "id": "4c324ece",
   "metadata": {
    "scrolled": true
   },
   "outputs": [
    {
     "data": {
      "text/plain": [
       "array([[ 0.  ,  0.  ,  0.  ,  0.  ,  0.  ,  0.  ,  0.  ],\n",
       "       [ 0.  ,  0.  ,  0.  ,  0.  ,  0.  ,  0.  ,  0.  ],\n",
       "       [ 0.  ,  0.  ,  0.  , -2.32,  0.  ,  0.  ,  0.  ],\n",
       "       [ 0.  ,  0.  ,  0.  ,  4.26,  0.  ,  0.  ,  0.  ],\n",
       "       [ 0.  ,  0.  ,  0.  , -1.97,  0.  ,  0.  ,  0.  ],\n",
       "       [ 0.  ,  0.  ,  0.  ,  0.  ,  0.  ,  0.  ,  0.  ],\n",
       "       [ 0.  ,  0.  ,  0.  ,  0.  ,  0.  ,  0.  ,  0.  ]])"
      ]
     },
     "execution_count": 39,
     "metadata": {},
     "output_type": "execute_result"
    }
   ],
   "source": [
    "anti_projection(omega, np.round(probabistic_algo(Z, omega, k, mu), 2)) +\\\n",
    "projection(omega, Z) - Z"
   ]
  },
  {
   "cell_type": "markdown",
   "id": "5dc41c84",
   "metadata": {},
   "source": [
    "### Вывод"
   ]
  },
  {
   "cell_type": "markdown",
   "id": "30995354",
   "metadata": {},
   "source": [
    "Мы просмотрели три решения задачи восстановления матриц. Soft-thresholding algorithm показал себя с хорошей стороны при решении задачи на какой-то более менее случайной матрице второго ранга, в которой мы стерли несколько чисел, тогда как Alternating Least Squares проявил себя лучше в задаче восстановления матрицы 10х10 с числами из большого диапазона. Стоит отметить, что при этом его вычисление представляется более сложной задачей с точки зрения как компьютерных ресурсов так и восприятия алгоритма."
   ]
  }
 ],
 "metadata": {
  "kernelspec": {
   "display_name": "Python 3 (ipykernel)",
   "language": "python",
   "name": "python3"
  },
  "language_info": {
   "codemirror_mode": {
    "name": "ipython",
    "version": 3
   },
   "file_extension": ".py",
   "mimetype": "text/x-python",
   "name": "python",
   "nbconvert_exporter": "python",
   "pygments_lexer": "ipython3",
   "version": "3.9.2"
  }
 },
 "nbformat": 4,
 "nbformat_minor": 5
}
