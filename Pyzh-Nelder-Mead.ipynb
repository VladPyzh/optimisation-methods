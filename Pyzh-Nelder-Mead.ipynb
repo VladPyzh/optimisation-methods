{
 "cells": [
  {
   "cell_type": "code",
   "execution_count": 1,
   "id": "cbe3023b",
   "metadata": {},
   "outputs": [],
   "source": [
    "import numpy as np\n",
    "import matplotlib.pyplot as plt"
   ]
  },
  {
   "cell_type": "code",
   "execution_count": 2,
   "id": "ffaa8345",
   "metadata": {
    "scrolled": false
   },
   "outputs": [],
   "source": [
    "def function_to_minimize(point):\n",
    "    x = point[0]\n",
    "    y = point[1]\n",
    "    return np.sin(y) * np.exp((1 - np.cos(x))**2) + np.cos(x) * np.exp((1 - np.sin(y))**2) + (x - y)**2"
   ]
  },
  {
   "cell_type": "markdown",
   "id": "b511fa2d",
   "metadata": {},
   "source": [
    "## Реализация"
   ]
  },
  {
   "cell_type": "code",
   "execution_count": 3,
   "id": "b0e4bafb",
   "metadata": {},
   "outputs": [],
   "source": [
    "domain_min = 0\n",
    "domain_max = 11\n",
    "def fix(point):\n",
    "    point[0] = domain_max if point[0] > domain_max else point[0]\n",
    "    point[0] = domain_min if point[0] < domain_min else point[0]\n",
    "    point[1] = domain_max if point[1] > domain_max else point[1]\n",
    "    point[1] = domain_min if point[1] < domain_min else point[1]\n",
    "    return point"
   ]
  },
  {
   "cell_type": "code",
   "execution_count": 4,
   "id": "dadcff88",
   "metadata": {},
   "outputs": [],
   "source": [
    "def f_on_list(points_set):\n",
    "    fx_x = []\n",
    "    for p in points_set:\n",
    "        fx_x.append((function_to_minimize(p), p))\n",
    "    return fx_x\n",
    "\n",
    "def reflected_point(centr, worse, alpha):\n",
    "    return fix(centr + alpha * (centr - worse))\n",
    "     \n",
    "def expanded_point(centr, reflected, best, gamma):\n",
    "    return fix(centr + gamma * (reflected - centr))\n",
    "\n",
    "def contracted_point(centr, worse, rho):\n",
    "    return fix(centr + rho * (worse - centr))\n",
    "    \n",
    "def shrink(points, sigma):\n",
    "    p1 = points[0] + sigma * (points[1] - points[0])\n",
    "    p2 = points[0] + sigma * (points[1] - points[0])\n",
    "    points[1] = fix(p1)\n",
    "    points[2] = fix(p2)"
   ]
  },
  {
   "cell_type": "code",
   "execution_count": 5,
   "id": "752da675",
   "metadata": {},
   "outputs": [],
   "source": [
    "def Nelder_Mead_iteration(fx_x, alpha, gamma, rho, sigma):\n",
    "    points_set = []\n",
    "    for f, point in fx_x:\n",
    "        points_set.append(point)\n",
    "    \n",
    "    fx_x = sorted(fx_x, key=lambda x : x[0])\n",
    "    centroid = 1/2 * (fx_x[0][1] + fx_x[1][1])\n",
    "    \n",
    "#     reflection\n",
    "    reflected = reflected_point(centroid, fx_x[2][1], alpha)\n",
    "    if fx_x[0][0] <= function_to_minimize(reflected) <= fx_x[1][0] :\n",
    "        fx_x[2] = (function_to_minimize(reflected), reflected)\n",
    "        return fx_x\n",
    "    \n",
    "#     expansion\n",
    "    if function_to_minimize(reflected) < fx_x[0][0]:\n",
    "        expanded = expanded_point(centroid, reflected, fx_x[0][1], rho)\n",
    "        if function_to_minimize(expanded) < function_to_minimize(reflected):\n",
    "            fx_x[2] = (function_to_minimize(expanded), expanded)\n",
    "        else:\n",
    "            fx_x[2] = (function_to_minimize(reflected), reflected)\n",
    "        return fx_x\n",
    "    \n",
    "#     contraction\n",
    "    contracted = contracted_point(centroid, fx_x[2][1], rho)\n",
    "    if function_to_minimize(contracted) < fx_x[2][0]:\n",
    "        fx_x[2] = (function_to_minimize(contracted), contracted)\n",
    "        return fx_x\n",
    "    \n",
    "    shrink(points_set, sigma)\n",
    "    fx_x = f_on_list(points_set)\n",
    "    return fx_x"
   ]
  },
  {
   "cell_type": "code",
   "execution_count": 6,
   "id": "78a2863a",
   "metadata": {},
   "outputs": [
    {
     "name": "stdout",
     "output_type": "stream",
     "text": [
      "[(1.5935304908570131, array([1, 1])), (6.8250541015507, array([2, 1])), (2.668029910392828, array([1, 2]))]\n"
     ]
    },
    {
     "data": {
      "text/plain": [
       "[(1.5935304908570131, array([1, 1])),\n",
       " (2.668029910392828, array([1, 2])),\n",
       " (2.3839536027644996, array([1.5 , 1.25]))]"
      ]
     },
     "execution_count": 6,
     "metadata": {},
     "output_type": "execute_result"
    }
   ],
   "source": [
    "points_set = [np.array([1,1]), np.array([2,1]), np.array([1,2])]\n",
    "fx_x = f_on_list(points_set)\n",
    "print(fx_x)\n",
    "\n",
    "Nelder_Mead_iteration(fx_x, 1, 2, 1/2, 1/2)"
   ]
  },
  {
   "cell_type": "code",
   "execution_count": 7,
   "id": "7a357c06",
   "metadata": {},
   "outputs": [],
   "source": [
    "def split_fx_x_to_x_y(fx_x):\n",
    "    x = []\n",
    "    y = []\n",
    "    for f, point in fx_x:\n",
    "        x.append(point[0])\n",
    "        y.append(point[1])\n",
    "    return x, y"
   ]
  },
  {
   "cell_type": "markdown",
   "id": "037f54b3",
   "metadata": {},
   "source": [
    "## Пример, когда из разных стартовых точек сходимся в разные точки"
   ]
  },
  {
   "cell_type": "code",
   "execution_count": 19,
   "id": "eb12357d",
   "metadata": {},
   "outputs": [
    {
     "data": {
      "image/png": "[encoded data removed]",
      "text/plain": [
       "<Figure size 864x864 with 1 Axes>"
      ]
     },
     "metadata": {
      "needs_background": "light"
     },
     "output_type": "display_data"
    }
   ],
   "source": [
    "points_set = [np.array([1,1]), np.array([2,1]), np.array([1,2])]\n",
    "points_set2 = [np.array([4,4]), np.array([5,4]), np.array([4,5])]\n",
    "fx_x = f_on_list(points_set)\n",
    "fx_x2 = f_on_list(points_set2)\n",
    "plt.figure(figsize=(12,12))\n",
    "for i in range(100):\n",
    "    x, y = split_fx_x_to_x_y(fx_x)\n",
    "    if (i == 99):\n",
    "        plt.scatter(x, y, color=\"blue\", alpha=0.1, label=\"Starts at (1,1), (2,1), (1,2)\")\n",
    "    else:\n",
    "        plt.scatter(x, y, color=\"blue\", alpha=0.1)\n",
    "    \n",
    "    x, y = split_fx_x_to_x_y(fx_x2)\n",
    "    if (i == 99):\n",
    "        plt.scatter(x, y, color=\"red\", alpha=0.1, label=\"Starts at (4,4), (5,4), (4,5)\")\n",
    "    else:\n",
    "        plt.scatter(x, y, color=\"red\", alpha=0.1)\n",
    "    \n",
    "    fx_x2 = Nelder_Mead_iteration(fx_x2, 1, 2, 1/2, 1/2)\n",
    "    fx_x = Nelder_Mead_iteration(fx_x, 1, 2, 1/2, 1/2)\n",
    "plt.grid(\";\")\n",
    "plt.title(\"Сходимость к разным точкам\", fontsize=18)\n",
    "plt.legend(fontsize=14)\n",
    "plt.show()"
   ]
  },
  {
   "cell_type": "markdown",
   "id": "ed9b9dc3",
   "metadata": {},
   "source": [
    "## Пример, когда с разными параметрами сходимся в разные точки"
   ]
  },
  {
   "cell_type": "code",
   "execution_count": 20,
   "id": "9207f43a",
   "metadata": {},
   "outputs": [
    {
     "data": {
      "image/png": "[encoded data removed]",
      "text/plain": [
       "<Figure size 864x864 with 1 Axes>"
      ]
     },
     "metadata": {
      "needs_background": "light"
     },
     "output_type": "display_data"
    }
   ],
   "source": [
    "points_set = [np.array([1,1]), np.array([2,1]), np.array([1,2])]\n",
    "fx_x = f_on_list(points_set)\n",
    "fx_x2 = f_on_list(points_set)\n",
    "plt.figure(figsize=(12,12))\n",
    "for i in range(100):\n",
    "    x, y = split_fx_x_to_x_y(fx_x)\n",
    "    if (i == 99):\n",
    "        plt.scatter(x, y, color=\"blue\", alpha=0.1, label=\"Params are $\\\\alpha=5, \\\\gamma=2, \\\\rho=1/2, \\\\sigma=1/2$\")\n",
    "    else:\n",
    "        plt.scatter(x, y, color=\"blue\", alpha=0.1)\n",
    "    \n",
    "    x, y = split_fx_x_to_x_y(fx_x2)\n",
    "    if (i == 99):\n",
    "        plt.scatter(x, y, color=\"red\", alpha=0.1, label=\"Params are $\\\\alpha=1/2, \\\\gamma=2, \\\\rho=1/2, \\\\sigma=1/2$\")\n",
    "    else:\n",
    "        plt.scatter(x, y, color=\"red\", alpha=0.1)\n",
    "    plt.scatter(x, y, color=\"red\", alpha=0.1)\n",
    "    \n",
    "    fx_x2 = Nelder_Mead_iteration(fx_x2, 5, 2, 1/2, 1/2)\n",
    "    fx_x = Nelder_Mead_iteration(fx_x, 1/2, 2, 1/2, 1/2)\n",
    "plt.grid(\";\")\n",
    "plt.title(\"Сходимость к разным точкам\", fontsize=18)\n",
    "plt.legend(fontsize=14)\n",
    "plt.ylim((0.5, 1.5))\n",
    "plt.show()"
   ]
  }
 ],
 "metadata": {
  "kernelspec": {
   "display_name": "Python 3 (ipykernel)",
   "language": "python",
   "name": "python3"
  },
  "language_info": {
   "codemirror_mode": {
    "name": "ipython",
    "version": 3
   },
   "file_extension": ".py",
   "mimetype": "text/x-python",
   "name": "python",
   "nbconvert_exporter": "python",
   "pygments_lexer": "ipython3",
   "version": "3.9.2"
  }
 },
 "nbformat": 4,
 "nbformat_minor": 5
}
